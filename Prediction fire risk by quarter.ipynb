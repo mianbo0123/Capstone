{
  "nbformat": 4,
  "nbformat_minor": 0,
  "metadata": {
    "accelerator": "GPU",
    "colab": {
      "name": "Prediction by quarter.ipynb",
      "provenance": [],
      "collapsed_sections": []
    },
    "kernelspec": {
      "display_name": "Python 3",
      "name": "python3"
    }
  },
  "cells": [
    {
      "cell_type": "code",
      "metadata": {
        "colab": {
          "resources": {
            "http://localhost:8080/nbextensions/google.colab/files.js": {
              "data": "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",
              "ok": true,
              "headers": [
                [
                  "content-type",
                  "application/javascript"
                ]
              ],
              "status": 200,
              "status_text": ""
            }
          },
          "base_uri": "https://localhost:8080/",
          "height": 72
        },
        "id": "x-6mHoUiQEW-",
        "outputId": "e3ebb484-87c5-4375-e03c-e8fe7e98edae"
      },
      "source": [
        "from google.colab import files\n",
        "uploaded = files.upload()"
      ],
      "execution_count": null,
      "outputs": [
        {
          "output_type": "display_data",
          "data": {
            "text/html": [
              "\n",
              "     <input type=\"file\" id=\"files-a297e075-5f90-4e06-aaf3-5bc62e937c83\" name=\"files[]\" multiple disabled\n",
              "        style=\"border:none\" />\n",
              "     <output id=\"result-a297e075-5f90-4e06-aaf3-5bc62e937c83\">\n",
              "      Upload widget is only available when the cell has been executed in the\n",
              "      current browser session. Please rerun this cell to enable.\n",
              "      </output>\n",
              "      <script src=\"/nbextensions/google.colab/files.js\"></script> "
            ],
            "text/plain": [
              "<IPython.core.display.HTML object>"
            ]
          },
          "metadata": {
            "tags": []
          }
        },
        {
          "output_type": "stream",
          "text": [
            "Saving All_joined_v11.csv to All_joined_v11.csv\n"
          ],
          "name": "stdout"
        }
      ]
    },
    {
      "cell_type": "code",
      "metadata": {
        "id": "D8ay9KAeQ39p"
      },
      "source": [
        "import numpy as np\n",
        "import matplotlib.pyplot as plt\n",
        "import pandas as pd\n",
        "import os\n",
        "import random\n",
        "import scipy\n",
        "import seaborn as sns\n",
        "import math\n",
        "from scipy import stats"
      ],
      "execution_count": null,
      "outputs": []
    },
    {
      "cell_type": "code",
      "metadata": {
        "id": "Qgry25EtQ4-M"
      },
      "source": [
        "df = pd.read_csv('All_joined_v11.csv')"
      ],
      "execution_count": null,
      "outputs": []
    },
    {
      "cell_type": "code",
      "metadata": {
        "colab": {
          "base_uri": "https://localhost:8080/",
          "height": 224
        },
        "id": "HoGH8LD8k5WE",
        "outputId": "d475a368-7bf7-45f8-c3bb-a92bbec4c1a5"
      },
      "source": [
        "df2=df.copy()\n",
        "df2.head()"
      ],
      "execution_count": null,
      "outputs": [
        {
          "output_type": "execute_result",
          "data": {
            "text/html": [
              "<div>\n",
              "<style scoped>\n",
              "    .dataframe tbody tr th:only-of-type {\n",
              "        vertical-align: middle;\n",
              "    }\n",
              "\n",
              "    .dataframe tbody tr th {\n",
              "        vertical-align: top;\n",
              "    }\n",
              "\n",
              "    .dataframe thead th {\n",
              "        text-align: right;\n",
              "    }\n",
              "</style>\n",
              "<table border=\"1\" class=\"dataframe\">\n",
              "  <thead>\n",
              "    <tr style=\"text-align: right;\">\n",
              "      <th></th>\n",
              "      <th>latitude</th>\n",
              "      <th>longitude</th>\n",
              "      <th>quarter</th>\n",
              "      <th>year</th>\n",
              "      <th>sum_etage_hors_sol</th>\n",
              "      <th>sum_nombre_logement</th>\n",
              "      <th>nombre_logement_per_population</th>\n",
              "      <th>avg_annee_construction</th>\n",
              "      <th>sum_superficie_terrain</th>\n",
              "      <th>area</th>\n",
              "      <th>area_per_population</th>\n",
              "      <th>population</th>\n",
              "      <th>dwellings</th>\n",
              "      <th>dwellings_per_population</th>\n",
              "      <th>households</th>\n",
              "      <th>households_per_population</th>\n",
              "      <th>averagehouseholdsize</th>\n",
              "      <th>averageage</th>\n",
              "      <th>averagesizeofcensusfamilies</th>\n",
              "      <th>workers</th>\n",
              "      <th>workers_per_population</th>\n",
              "      <th>caserne_count</th>\n",
              "      <th>incendie_count</th>\n",
              "      <th>sum_superficie_batiment</th>\n",
              "      <th>superficie_batiment_per_population</th>\n",
              "      <th>incendie_count_last_100</th>\n",
              "      <th>incendie_count_last_300</th>\n",
              "      <th>alarm_incendie_count_last_100</th>\n",
              "      <th>total_crimes_last_100</th>\n",
              "      <th>vols_count_last_100</th>\n",
              "      <th>mefait_count_last_100</th>\n",
              "      <th>vol_de_vehicule_count_last_100</th>\n",
              "      <th>introduction_count_last_100</th>\n",
              "      <th>infractions_entrainant_count_last_100</th>\n",
              "    </tr>\n",
              "  </thead>\n",
              "  <tbody>\n",
              "    <tr>\n",
              "      <th>0</th>\n",
              "      <td>45.40</td>\n",
              "      <td>-73.96</td>\n",
              "      <td>2</td>\n",
              "      <td>2017</td>\n",
              "      <td>0</td>\n",
              "      <td>0</td>\n",
              "      <td>0.000000</td>\n",
              "      <td>1900.00</td>\n",
              "      <td>2732</td>\n",
              "      <td>1.57174</td>\n",
              "      <td>0.004465</td>\n",
              "      <td>352</td>\n",
              "      <td>162</td>\n",
              "      <td>0.460227</td>\n",
              "      <td>149</td>\n",
              "      <td>0.423295</td>\n",
              "      <td>2.3</td>\n",
              "      <td>42.0</td>\n",
              "      <td>2.7</td>\n",
              "      <td>100</td>\n",
              "      <td>0.284091</td>\n",
              "      <td>0</td>\n",
              "      <td>0</td>\n",
              "      <td>831</td>\n",
              "      <td>2.360795</td>\n",
              "      <td>0</td>\n",
              "      <td>0</td>\n",
              "      <td>1</td>\n",
              "      <td>0</td>\n",
              "      <td>0</td>\n",
              "      <td>0</td>\n",
              "      <td>0</td>\n",
              "      <td>0</td>\n",
              "      <td>0</td>\n",
              "    </tr>\n",
              "    <tr>\n",
              "      <th>1</th>\n",
              "      <td>45.40</td>\n",
              "      <td>-73.96</td>\n",
              "      <td>3</td>\n",
              "      <td>2019</td>\n",
              "      <td>0</td>\n",
              "      <td>0</td>\n",
              "      <td>0.000000</td>\n",
              "      <td>1900.00</td>\n",
              "      <td>2732</td>\n",
              "      <td>1.57174</td>\n",
              "      <td>0.004465</td>\n",
              "      <td>352</td>\n",
              "      <td>162</td>\n",
              "      <td>0.460227</td>\n",
              "      <td>149</td>\n",
              "      <td>0.423295</td>\n",
              "      <td>2.3</td>\n",
              "      <td>42.0</td>\n",
              "      <td>2.7</td>\n",
              "      <td>100</td>\n",
              "      <td>0.284091</td>\n",
              "      <td>0</td>\n",
              "      <td>0</td>\n",
              "      <td>831</td>\n",
              "      <td>2.360795</td>\n",
              "      <td>0</td>\n",
              "      <td>0</td>\n",
              "      <td>0</td>\n",
              "      <td>0</td>\n",
              "      <td>0</td>\n",
              "      <td>0</td>\n",
              "      <td>0</td>\n",
              "      <td>0</td>\n",
              "      <td>0</td>\n",
              "    </tr>\n",
              "    <tr>\n",
              "      <th>2</th>\n",
              "      <td>45.41</td>\n",
              "      <td>-73.95</td>\n",
              "      <td>1</td>\n",
              "      <td>2015</td>\n",
              "      <td>728</td>\n",
              "      <td>730</td>\n",
              "      <td>2.324841</td>\n",
              "      <td>1949.98</td>\n",
              "      <td>253537</td>\n",
              "      <td>0.21093</td>\n",
              "      <td>0.000672</td>\n",
              "      <td>314</td>\n",
              "      <td>7</td>\n",
              "      <td>0.022293</td>\n",
              "      <td>0</td>\n",
              "      <td>0.000000</td>\n",
              "      <td>0.0</td>\n",
              "      <td>91.6</td>\n",
              "      <td>0.0</td>\n",
              "      <td>0</td>\n",
              "      <td>0.000000</td>\n",
              "      <td>0</td>\n",
              "      <td>0</td>\n",
              "      <td>80990</td>\n",
              "      <td>257.929936</td>\n",
              "      <td>0</td>\n",
              "      <td>0</td>\n",
              "      <td>0</td>\n",
              "      <td>0</td>\n",
              "      <td>0</td>\n",
              "      <td>0</td>\n",
              "      <td>0</td>\n",
              "      <td>0</td>\n",
              "      <td>0</td>\n",
              "    </tr>\n",
              "    <tr>\n",
              "      <th>3</th>\n",
              "      <td>45.41</td>\n",
              "      <td>-73.95</td>\n",
              "      <td>2</td>\n",
              "      <td>2015</td>\n",
              "      <td>728</td>\n",
              "      <td>730</td>\n",
              "      <td>2.324841</td>\n",
              "      <td>1949.98</td>\n",
              "      <td>253537</td>\n",
              "      <td>0.21093</td>\n",
              "      <td>0.000672</td>\n",
              "      <td>314</td>\n",
              "      <td>7</td>\n",
              "      <td>0.022293</td>\n",
              "      <td>0</td>\n",
              "      <td>0.000000</td>\n",
              "      <td>0.0</td>\n",
              "      <td>91.6</td>\n",
              "      <td>0.0</td>\n",
              "      <td>0</td>\n",
              "      <td>0.000000</td>\n",
              "      <td>0</td>\n",
              "      <td>0</td>\n",
              "      <td>80990</td>\n",
              "      <td>257.929936</td>\n",
              "      <td>0</td>\n",
              "      <td>0</td>\n",
              "      <td>2</td>\n",
              "      <td>5</td>\n",
              "      <td>1</td>\n",
              "      <td>1</td>\n",
              "      <td>1</td>\n",
              "      <td>1</td>\n",
              "      <td>0</td>\n",
              "    </tr>\n",
              "    <tr>\n",
              "      <th>4</th>\n",
              "      <td>45.41</td>\n",
              "      <td>-73.95</td>\n",
              "      <td>3</td>\n",
              "      <td>2015</td>\n",
              "      <td>728</td>\n",
              "      <td>730</td>\n",
              "      <td>2.324841</td>\n",
              "      <td>1949.98</td>\n",
              "      <td>253537</td>\n",
              "      <td>0.21093</td>\n",
              "      <td>0.000672</td>\n",
              "      <td>314</td>\n",
              "      <td>7</td>\n",
              "      <td>0.022293</td>\n",
              "      <td>0</td>\n",
              "      <td>0.000000</td>\n",
              "      <td>0.0</td>\n",
              "      <td>91.6</td>\n",
              "      <td>0.0</td>\n",
              "      <td>0</td>\n",
              "      <td>0.000000</td>\n",
              "      <td>0</td>\n",
              "      <td>0</td>\n",
              "      <td>80990</td>\n",
              "      <td>257.929936</td>\n",
              "      <td>0</td>\n",
              "      <td>0</td>\n",
              "      <td>3</td>\n",
              "      <td>7</td>\n",
              "      <td>1</td>\n",
              "      <td>2</td>\n",
              "      <td>1</td>\n",
              "      <td>1</td>\n",
              "      <td>0</td>\n",
              "    </tr>\n",
              "  </tbody>\n",
              "</table>\n",
              "</div>"
            ],
            "text/plain": [
              "   latitude  ...  infractions_entrainant_count_last_100\n",
              "0     45.40  ...                                      0\n",
              "1     45.40  ...                                      0\n",
              "2     45.41  ...                                      0\n",
              "3     45.41  ...                                      0\n",
              "4     45.41  ...                                      0\n",
              "\n",
              "[5 rows x 34 columns]"
            ]
          },
          "metadata": {
            "tags": []
          },
          "execution_count": 4
        }
      ]
    },
    {
      "cell_type": "code",
      "metadata": {
        "colab": {
          "base_uri": "https://localhost:8080/"
        },
        "id": "d7a_1s1gxtM0",
        "outputId": "43f12f08-682c-4b77-ba2b-051f1f1f0948"
      },
      "source": [
        "import geopy.distance\n",
        "\n",
        "def dist(x,y):\n",
        "  coords_1 = (45.504654, -73.56546)\n",
        "  coords_2 = (x, y)\n",
        "  return geopy.distance.vincenty(coords_1, coords_2).km\n",
        "\n",
        "df2['distance']=0\n",
        "\n",
        "for i in range(0,len(df2)-1):\n",
        "  df2['distance'][i]=dist(df2['latitude'][i], df2['longitude'][i])"
      ],
      "execution_count": null,
      "outputs": [
        {
          "output_type": "stream",
          "text": [
            "/usr/local/lib/python3.6/dist-packages/ipykernel_launcher.py:11: SettingWithCopyWarning: \n",
            "A value is trying to be set on a copy of a slice from a DataFrame\n",
            "\n",
            "See the caveats in the documentation: https://pandas.pydata.org/pandas-docs/stable/user_guide/indexing.html#returning-a-view-versus-a-copy\n",
            "  # This is added back by InteractiveShellApp.init_path()\n"
          ],
          "name": "stderr"
        }
      ]
    },
    {
      "cell_type": "code",
      "metadata": {
        "colab": {
          "base_uri": "https://localhost:8080/"
        },
        "id": "VvejvtjslXk1",
        "outputId": "f7f54ab4-bf76-4bd8-f169-1def8adb9297"
      },
      "source": [
        "df2.dtypes"
      ],
      "execution_count": null,
      "outputs": [
        {
          "output_type": "execute_result",
          "data": {
            "text/plain": [
              "latitude                                 float64\n",
              "longitude                                float64\n",
              "quarter                                    int64\n",
              "year                                       int64\n",
              "sum_etage_hors_sol                         int64\n",
              "sum_nombre_logement                        int64\n",
              "nombre_logement_per_population           float64\n",
              "avg_annee_construction                   float64\n",
              "sum_superficie_terrain                     int64\n",
              "area                                     float64\n",
              "area_per_population                      float64\n",
              "population                                 int64\n",
              "dwellings                                  int64\n",
              "dwellings_per_population                 float64\n",
              "households                                 int64\n",
              "households_per_population                float64\n",
              "averagehouseholdsize                     float64\n",
              "averageage                               float64\n",
              "averagesizeofcensusfamilies              float64\n",
              "workers                                    int64\n",
              "workers_per_population                   float64\n",
              "caserne_count                              int64\n",
              "incendie_count                             int64\n",
              "sum_superficie_batiment                    int64\n",
              "superficie_batiment_per_population       float64\n",
              "incendie_count_last_100                    int64\n",
              "incendie_count_last_300                    int64\n",
              "alarm_incendie_count_last_100              int64\n",
              "total_crimes_last_100                      int64\n",
              "vols_count_last_100                        int64\n",
              "mefait_count_last_100                      int64\n",
              "vol_de_vehicule_count_last_100             int64\n",
              "introduction_count_last_100                int64\n",
              "infractions_entrainant_count_last_100      int64\n",
              "distance                                   int64\n",
              "dtype: object"
            ]
          },
          "metadata": {
            "tags": []
          },
          "execution_count": 7
        }
      ]
    },
    {
      "cell_type": "code",
      "metadata": {
        "colab": {
          "base_uri": "https://localhost:8080/"
        },
        "id": "gZK4s3BOUWSg",
        "outputId": "7c4720b7-c987-4af9-9b67-5570fb5ccd18"
      },
      "source": [
        "df2['incendie_count'].value_counts()"
      ],
      "execution_count": null,
      "outputs": [
        {
          "output_type": "execute_result",
          "data": {
            "text/plain": [
              "0     7633\n",
              "1     2644\n",
              "2      961\n",
              "3      362\n",
              "4      151\n",
              "5       55\n",
              "6       19\n",
              "7        9\n",
              "9        4\n",
              "8        4\n",
              "10       1\n",
              "Name: incendie_count, dtype: int64"
            ]
          },
          "metadata": {
            "tags": []
          },
          "execution_count": 8
        }
      ]
    },
    {
      "cell_type": "code",
      "metadata": {
        "colab": {
          "base_uri": "https://localhost:8080/"
        },
        "id": "s4jL2yzEUzgM",
        "outputId": "4376aad2-bb21-4c22-f6e8-7729e5f81b74"
      },
      "source": [
        "df2['fire'] = df2['incendie_count']\n",
        "df2['fire'][df2['incendie_count']==0] = 0\n",
        "df2['fire'][(df2['incendie_count']==1)] = 1\n",
        "df2['fire'][df2['incendie_count']>=2] = 2"
      ],
      "execution_count": null,
      "outputs": [
        {
          "output_type": "stream",
          "text": [
            "/usr/local/lib/python3.6/dist-packages/ipykernel_launcher.py:2: SettingWithCopyWarning: \n",
            "A value is trying to be set on a copy of a slice from a DataFrame\n",
            "\n",
            "See the caveats in the documentation: https://pandas.pydata.org/pandas-docs/stable/user_guide/indexing.html#returning-a-view-versus-a-copy\n",
            "  \n",
            "/usr/local/lib/python3.6/dist-packages/ipykernel_launcher.py:3: SettingWithCopyWarning: \n",
            "A value is trying to be set on a copy of a slice from a DataFrame\n",
            "\n",
            "See the caveats in the documentation: https://pandas.pydata.org/pandas-docs/stable/user_guide/indexing.html#returning-a-view-versus-a-copy\n",
            "  This is separate from the ipykernel package so we can avoid doing imports until\n",
            "/usr/local/lib/python3.6/dist-packages/ipykernel_launcher.py:4: SettingWithCopyWarning: \n",
            "A value is trying to be set on a copy of a slice from a DataFrame\n",
            "\n",
            "See the caveats in the documentation: https://pandas.pydata.org/pandas-docs/stable/user_guide/indexing.html#returning-a-view-versus-a-copy\n",
            "  after removing the cwd from sys.path.\n"
          ],
          "name": "stderr"
        }
      ]
    },
    {
      "cell_type": "code",
      "metadata": {
        "colab": {
          "base_uri": "https://localhost:8080/"
        },
        "id": "SSlxBac-VM8Z",
        "outputId": "c11f2aa7-c0c3-48b7-b5f6-c38f4af5ef7f"
      },
      "source": [
        "df2['fire'].value_counts()"
      ],
      "execution_count": null,
      "outputs": [
        {
          "output_type": "execute_result",
          "data": {
            "text/plain": [
              "0    7633\n",
              "1    2644\n",
              "2    1566\n",
              "Name: fire, dtype: int64"
            ]
          },
          "metadata": {
            "tags": []
          },
          "execution_count": 10
        }
      ]
    },
    {
      "cell_type": "code",
      "metadata": {
        "id": "84uHpXkwyQpj"
      },
      "source": [
        "df2 = df2.drop(\"latitude\", axis=1)\n",
        "df2 = df2.drop(\"longitude\", axis=1)         \n",
        "df2 = df2.drop(\"incendie_count\", axis=1)\n",
        "#df2 = df2.drop(\"incendie_count_last_100\", axis=1)\n",
        "#df2 = df2.drop(\"incendie_count_last_300\", axis=1)\n",
        "df3 = df2.drop(\"year\",axis=1)\n",
        "df3 = df3.drop(\"quarter\",axis=1)"
      ],
      "execution_count": null,
      "outputs": []
    },
    {
      "cell_type": "code",
      "metadata": {
        "id": "_lW9FrQXz2-4"
      },
      "source": [
        "X_raw=df3.drop(\"fire\", axis=1)"
      ],
      "execution_count": null,
      "outputs": []
    },
    {
      "cell_type": "code",
      "metadata": {
        "id": "52Rj_gi1XV--"
      },
      "source": [
        "from sklearn import preprocessing\n",
        "#from sklearn.preprocessing import StandardScaler\n",
        "#from sklearn.impute import SimpleImputer\n",
        "\n",
        "#scaler = StandardScaler()\n",
        "#scaler.fit(X_raw)\n",
        "#X=scaler.transform(X_raw)\n",
        "# standardize X and y before fitting multiple linear model\n",
        "X = pd.DataFrame(preprocessing.scale(X_raw))\n",
        "y = df3['fire'].copy()"
      ],
      "execution_count": null,
      "outputs": []
    },
    {
      "cell_type": "code",
      "metadata": {
        "id": "hh5AEL8f15dw"
      },
      "source": [
        "X_whole = X[(df2['year'] < 2019) | ((df2['year'] == 2019) & (df2['quarter'] <= 2))]\n",
        "y_whole = y[(df2['year'] < 2019) | ((df2['year'] == 2019) & (df2['quarter'] <= 2))]\n",
        "\n",
        "X_valid = X[(df2['year']==2019) & (df2['quarter']==4)]\n",
        "y_valid = y[(df2['year']==2019) & (df2['quarter']==4)]"
      ],
      "execution_count": null,
      "outputs": []
    },
    {
      "cell_type": "code",
      "metadata": {
        "colab": {
          "base_uri": "https://localhost:8080/"
        },
        "id": "KryjnBmJAKwC",
        "outputId": "ca99c4d6-d25d-4221-96e3-963af4147dea"
      },
      "source": [
        "len(X_valid)"
      ],
      "execution_count": null,
      "outputs": [
        {
          "output_type": "execute_result",
          "data": {
            "text/plain": [
              "496"
            ]
          },
          "metadata": {
            "tags": []
          },
          "execution_count": 13
        }
      ]
    },
    {
      "cell_type": "code",
      "metadata": {
        "colab": {
          "base_uri": "https://localhost:8080/"
        },
        "id": "35nmdXsLHsex",
        "outputId": "8dc97af8-efde-4c7b-90ab-bcb72c5d7bab"
      },
      "source": [
        "y_valid.value_counts()"
      ],
      "execution_count": null,
      "outputs": [
        {
          "output_type": "execute_result",
          "data": {
            "text/plain": [
              "0    322\n",
              "1    111\n",
              "2     69\n",
              "Name: fire, dtype: int64"
            ]
          },
          "metadata": {
            "tags": []
          },
          "execution_count": 17
        }
      ]
    },
    {
      "cell_type": "code",
      "metadata": {
        "colab": {
          "base_uri": "https://localhost:8080/"
        },
        "id": "7g4M7xZ0meFD",
        "outputId": "515625de-cd9d-4c8f-f884-4d8039f60b84"
      },
      "source": [
        "len(X_whole)"
      ],
      "execution_count": null,
      "outputs": [
        {
          "output_type": "execute_result",
          "data": {
            "text/plain": [
              "8984"
            ]
          },
          "metadata": {
            "tags": []
          },
          "execution_count": 25
        }
      ]
    },
    {
      "cell_type": "code",
      "metadata": {
        "colab": {
          "base_uri": "https://localhost:8080/"
        },
        "id": "e7MA_Rjwhqxx",
        "outputId": "c683b2c8-0a7b-497a-995b-3bd37ec0c60e"
      },
      "source": [
        "import xgboost as xgb\n",
        "from xgboost import XGBClassifier\n",
        "from sklearn.model_selection import GridSearchCV \n",
        "\n",
        "param_test1 = {\n",
        "  'reg_alpha':range(10,200,20)\n",
        "}\n",
        "gsearch1 = GridSearchCV(estimator = XGBClassifier(learning_rate =0.3, max_depth=1,\n",
        " min_child_weight=1, gamma=0, subsample=1, colsample_bytree=1,\n",
        " objective= 'multi:softmax', num_class=3, scale_pos_weight=1, seed=0), \n",
        " param_grid = param_test1,scoring='accuracy', n_jobs=4,iid=False, cv=5)\n",
        "gsearch1.fit(X_whole,y_whole)\n",
        "gsearch1.cv_results_"
      ],
      "execution_count": null,
      "outputs": [
        {
          "output_type": "stream",
          "text": [
            "/usr/local/lib/python3.6/dist-packages/sklearn/model_selection/_search.py:823: FutureWarning: The parameter 'iid' is deprecated in 0.22 and will be removed in 0.24.\n",
            "  \"removed in 0.24.\", FutureWarning\n"
          ],
          "name": "stderr"
        },
        {
          "output_type": "execute_result",
          "data": {
            "text/plain": [
              "{'mean_fit_time': array([0.52361937, 0.50724893, 0.50500889, 0.49934645, 0.48155446,\n",
              "        0.49594045, 0.48456249, 0.48773913, 0.49650469, 0.41136236]),\n",
              " 'mean_score_time': array([0.01404018, 0.00713496, 0.00675054, 0.00738697, 0.00958457,\n",
              "        0.00953803, 0.00534806, 0.00829568, 0.01514096, 0.00310788]),\n",
              " 'mean_test_score': array([0.62136958, 0.62993777, 0.63477809, 0.63180135, 0.62994053,\n",
              "        0.62547195, 0.62621614, 0.62212069, 0.61802732, 0.60946467]),\n",
              " 'param_reg_alpha': masked_array(data=[10, 30, 50, 70, 90, 110, 130, 150, 170, 190],\n",
              "              mask=[False, False, False, False, False, False, False, False,\n",
              "                    False, False],\n",
              "        fill_value='?',\n",
              "             dtype=object),\n",
              " 'params': [{'reg_alpha': 10},\n",
              "  {'reg_alpha': 30},\n",
              "  {'reg_alpha': 50},\n",
              "  {'reg_alpha': 70},\n",
              "  {'reg_alpha': 90},\n",
              "  {'reg_alpha': 110},\n",
              "  {'reg_alpha': 130},\n",
              "  {'reg_alpha': 150},\n",
              "  {'reg_alpha': 170},\n",
              "  {'reg_alpha': 190}],\n",
              " 'rank_test_score': array([ 8,  4,  1,  2,  3,  6,  5,  7,  9, 10], dtype=int32),\n",
              " 'split0_test_score': array([0.62267658, 0.61710037, 0.62081784, 0.6133829 , 0.60966543,\n",
              "        0.60780669, 0.60966543, 0.60594796, 0.59665428, 0.58736059]),\n",
              " 'split1_test_score': array([0.6424581 , 0.65176909, 0.65735568, 0.6443203 , 0.63873371,\n",
              "        0.63687151, 0.63687151, 0.63687151, 0.63500931, 0.62569832]),\n",
              " 'split2_test_score': array([0.66294227, 0.67597765, 0.69646182, 0.70018622, 0.69646182,\n",
              "        0.68342644, 0.68342644, 0.67411546, 0.67970205, 0.67039106]),\n",
              " 'split3_test_score': array([0.61266294, 0.6461825 , 0.6424581 , 0.6443203 , 0.6405959 ,\n",
              "        0.63687151, 0.63873371, 0.63314711, 0.62011173, 0.61638734]),\n",
              " 'split4_test_score': array([0.56610801, 0.55865922, 0.55679702, 0.55679702, 0.56424581,\n",
              "        0.56238361, 0.56238361, 0.56052142, 0.55865922, 0.54748603]),\n",
              " 'std_fit_time': array([0.02565194, 0.01130572, 0.01001053, 0.01073061, 0.00724726,\n",
              "        0.01171144, 0.00622713, 0.00687506, 0.03659878, 0.11789643]),\n",
              " 'std_score_time': array([0.00287073, 0.00350096, 0.00361678, 0.00470742, 0.00308046,\n",
              "        0.00353924, 0.00354548, 0.00414939, 0.00712435, 0.00053305]),\n",
              " 'std_test_score': array([0.03257106, 0.04026313, 0.04615095, 0.04680775, 0.04322688,\n",
              "        0.03977643, 0.03972849, 0.03767931, 0.04019424, 0.04087401])}"
            ]
          },
          "metadata": {
            "tags": []
          },
          "execution_count": 51
        }
      ]
    },
    {
      "cell_type": "code",
      "metadata": {
        "colab": {
          "base_uri": "https://localhost:8080/"
        },
        "id": "UGOyh9g7-xJ5",
        "outputId": "b21d7deb-741c-4a6e-e873-532317e9fee8"
      },
      "source": [
        "import xgboost as xgb\n",
        "from xgboost import XGBClassifier\n",
        "from sklearn.model_selection import GridSearchCV \n",
        "\n",
        "param_test1 = {\n",
        "  'C': (0.1,0.3,0.5,0.7,0.9,1.1,1.3,1.5,1.7,1.9,2.1)\n",
        "}\n",
        "gsearch1 = GridSearchCV(estimator = SVC(class_weight='balanced',gamma='scale'), \n",
        " param_grid = param_test1,scoring='accuracy', n_jobs=4,iid=False, cv=5)\n",
        "gsearch1.fit(X_whole,y_whole)\n",
        "gsearch1.best_params_, gsearch1.best_score_"
      ],
      "execution_count": null,
      "outputs": [
        {
          "output_type": "stream",
          "text": [
            "/usr/local/lib/python3.6/dist-packages/sklearn/model_selection/_search.py:823: FutureWarning: The parameter 'iid' is deprecated in 0.22 and will be removed in 0.24.\n",
            "  \"removed in 0.24.\", FutureWarning\n"
          ],
          "name": "stderr"
        },
        {
          "output_type": "execute_result",
          "data": {
            "text/plain": [
              "({'C': 0.1}, 0.5745818631150904)"
            ]
          },
          "metadata": {
            "tags": []
          },
          "execution_count": 81
        }
      ]
    },
    {
      "cell_type": "code",
      "metadata": {
        "colab": {
          "base_uri": "https://localhost:8080/"
        },
        "id": "DlbmJQm7qqSk",
        "outputId": "7e6d59a5-f4a3-4079-9da7-f461ae5a3686"
      },
      "source": [
        "# defining parameter range \n",
        "param_grid = {'C': [0.1, 1, 10, 100, 1000],  \n",
        "              'gamma': [1, 0.1, 0.01, 0.001, 0.0001], \n",
        "              'kernel': ['rbf']}  \n",
        "  \n",
        "grid = GridSearchCV(SVC(), param_grid, refit = True, verbose = 3) \n",
        "  \n",
        "# fitting the model for grid search \n",
        "grid.fit(X_whole,y_whole) "
      ],
      "execution_count": null,
      "outputs": [
        {
          "output_type": "stream",
          "text": [
            "Fitting 5 folds for each of 25 candidates, totalling 125 fits\n",
            "[CV] C=0.1, gamma=1, kernel=rbf ......................................\n"
          ],
          "name": "stdout"
        },
        {
          "output_type": "stream",
          "text": [
            "[Parallel(n_jobs=1)]: Using backend SequentialBackend with 1 concurrent workers.\n"
          ],
          "name": "stderr"
        },
        {
          "output_type": "stream",
          "text": [
            "[CV] .......... C=0.1, gamma=1, kernel=rbf, score=0.638, total=   5.2s\n",
            "[CV] C=0.1, gamma=1, kernel=rbf ......................................\n"
          ],
          "name": "stdout"
        },
        {
          "output_type": "stream",
          "text": [
            "[Parallel(n_jobs=1)]: Done   1 out of   1 | elapsed:    5.2s remaining:    0.0s\n"
          ],
          "name": "stderr"
        },
        {
          "output_type": "stream",
          "text": [
            "[CV] .......... C=0.1, gamma=1, kernel=rbf, score=0.638, total=   4.9s\n",
            "[CV] C=0.1, gamma=1, kernel=rbf ......................................\n"
          ],
          "name": "stdout"
        },
        {
          "output_type": "stream",
          "text": [
            "[Parallel(n_jobs=1)]: Done   2 out of   2 | elapsed:   10.1s remaining:    0.0s\n"
          ],
          "name": "stderr"
        },
        {
          "output_type": "stream",
          "text": [
            "[CV] .......... C=0.1, gamma=1, kernel=rbf, score=0.638, total=   5.1s\n",
            "[CV] C=0.1, gamma=1, kernel=rbf ......................................\n",
            "[CV] .......... C=0.1, gamma=1, kernel=rbf, score=0.638, total=   4.6s\n",
            "[CV] C=0.1, gamma=1, kernel=rbf ......................................\n",
            "[CV] .......... C=0.1, gamma=1, kernel=rbf, score=0.638, total=   5.0s\n",
            "[CV] C=0.1, gamma=0.1, kernel=rbf ....................................\n",
            "[CV] ........ C=0.1, gamma=0.1, kernel=rbf, score=0.644, total=   3.6s\n",
            "[CV] C=0.1, gamma=0.1, kernel=rbf ....................................\n",
            "[CV] ........ C=0.1, gamma=0.1, kernel=rbf, score=0.625, total=   3.5s\n",
            "[CV] C=0.1, gamma=0.1, kernel=rbf ....................................\n",
            "[CV] ........ C=0.1, gamma=0.1, kernel=rbf, score=0.653, total=   3.6s\n",
            "[CV] C=0.1, gamma=0.1, kernel=rbf ....................................\n",
            "[CV] ........ C=0.1, gamma=0.1, kernel=rbf, score=0.627, total=   3.4s\n",
            "[CV] C=0.1, gamma=0.1, kernel=rbf ....................................\n",
            "[CV] ........ C=0.1, gamma=0.1, kernel=rbf, score=0.640, total=   3.5s\n",
            "[CV] C=0.1, gamma=0.01, kernel=rbf ...................................\n",
            "[CV] ....... C=0.1, gamma=0.01, kernel=rbf, score=0.649, total=   3.1s\n",
            "[CV] C=0.1, gamma=0.01, kernel=rbf ...................................\n",
            "[CV] ....... C=0.1, gamma=0.01, kernel=rbf, score=0.681, total=   3.1s\n",
            "[CV] C=0.1, gamma=0.01, kernel=rbf ...................................\n",
            "[CV] ....... C=0.1, gamma=0.01, kernel=rbf, score=0.705, total=   3.1s\n",
            "[CV] C=0.1, gamma=0.01, kernel=rbf ...................................\n",
            "[CV] ....... C=0.1, gamma=0.01, kernel=rbf, score=0.630, total=   2.8s\n",
            "[CV] C=0.1, gamma=0.01, kernel=rbf ...................................\n",
            "[CV] ....... C=0.1, gamma=0.01, kernel=rbf, score=0.645, total=   3.0s\n",
            "[CV] C=0.1, gamma=0.001, kernel=rbf ..................................\n",
            "[CV] ...... C=0.1, gamma=0.001, kernel=rbf, score=0.643, total=   3.2s\n",
            "[CV] C=0.1, gamma=0.001, kernel=rbf ..................................\n",
            "[CV] ...... C=0.1, gamma=0.001, kernel=rbf, score=0.667, total=   3.2s\n",
            "[CV] C=0.1, gamma=0.001, kernel=rbf ..................................\n",
            "[CV] ...... C=0.1, gamma=0.001, kernel=rbf, score=0.682, total=   3.2s\n",
            "[CV] C=0.1, gamma=0.001, kernel=rbf ..................................\n",
            "[CV] ...... C=0.1, gamma=0.001, kernel=rbf, score=0.649, total=   3.0s\n",
            "[CV] C=0.1, gamma=0.001, kernel=rbf ..................................\n",
            "[CV] ...... C=0.1, gamma=0.001, kernel=rbf, score=0.641, total=   3.0s\n",
            "[CV] C=0.1, gamma=0.0001, kernel=rbf .................................\n",
            "[CV] ..... C=0.1, gamma=0.0001, kernel=rbf, score=0.638, total=   3.2s\n",
            "[CV] C=0.1, gamma=0.0001, kernel=rbf .................................\n",
            "[CV] ..... C=0.1, gamma=0.0001, kernel=rbf, score=0.638, total=   3.2s\n",
            "[CV] C=0.1, gamma=0.0001, kernel=rbf .................................\n",
            "[CV] ..... C=0.1, gamma=0.0001, kernel=rbf, score=0.638, total=   3.1s\n",
            "[CV] C=0.1, gamma=0.0001, kernel=rbf .................................\n",
            "[CV] ..... C=0.1, gamma=0.0001, kernel=rbf, score=0.638, total=   3.1s\n",
            "[CV] C=0.1, gamma=0.0001, kernel=rbf .................................\n",
            "[CV] ..... C=0.1, gamma=0.0001, kernel=rbf, score=0.638, total=   3.2s\n",
            "[CV] C=1, gamma=1, kernel=rbf ........................................\n",
            "[CV] ............ C=1, gamma=1, kernel=rbf, score=0.638, total=   5.4s\n",
            "[CV] C=1, gamma=1, kernel=rbf ........................................\n",
            "[CV] ............ C=1, gamma=1, kernel=rbf, score=0.431, total=   5.0s\n",
            "[CV] C=1, gamma=1, kernel=rbf ........................................\n",
            "[CV] ............ C=1, gamma=1, kernel=rbf, score=0.376, total=   5.1s\n",
            "[CV] C=1, gamma=1, kernel=rbf ........................................\n",
            "[CV] ............ C=1, gamma=1, kernel=rbf, score=0.452, total=   4.9s\n",
            "[CV] C=1, gamma=1, kernel=rbf ........................................\n",
            "[CV] ............ C=1, gamma=1, kernel=rbf, score=0.638, total=   5.0s\n",
            "[CV] C=1, gamma=0.1, kernel=rbf ......................................\n",
            "[CV] .......... C=1, gamma=0.1, kernel=rbf, score=0.632, total=   3.8s\n",
            "[CV] C=1, gamma=0.1, kernel=rbf ......................................\n",
            "[CV] .......... C=1, gamma=0.1, kernel=rbf, score=0.535, total=   3.7s\n",
            "[CV] C=1, gamma=0.1, kernel=rbf ......................................\n",
            "[CV] .......... C=1, gamma=0.1, kernel=rbf, score=0.492, total=   3.7s\n",
            "[CV] C=1, gamma=0.1, kernel=rbf ......................................\n",
            "[CV] .......... C=1, gamma=0.1, kernel=rbf, score=0.479, total=   3.4s\n",
            "[CV] C=1, gamma=0.1, kernel=rbf ......................................\n",
            "[CV] .......... C=1, gamma=0.1, kernel=rbf, score=0.648, total=   3.7s\n",
            "[CV] C=1, gamma=0.01, kernel=rbf .....................................\n",
            "[CV] ......... C=1, gamma=0.01, kernel=rbf, score=0.651, total=   3.1s\n",
            "[CV] C=1, gamma=0.01, kernel=rbf .....................................\n",
            "[CV] ......... C=1, gamma=0.01, kernel=rbf, score=0.649, total=   3.1s\n",
            "[CV] C=1, gamma=0.01, kernel=rbf .....................................\n",
            "[CV] ......... C=1, gamma=0.01, kernel=rbf, score=0.696, total=   3.2s\n",
            "[CV] C=1, gamma=0.01, kernel=rbf .....................................\n",
            "[CV] ......... C=1, gamma=0.01, kernel=rbf, score=0.598, total=   2.8s\n",
            "[CV] C=1, gamma=0.01, kernel=rbf .....................................\n",
            "[CV] ......... C=1, gamma=0.01, kernel=rbf, score=0.645, total=   3.0s\n",
            "[CV] C=1, gamma=0.001, kernel=rbf ....................................\n",
            "[CV] ........ C=1, gamma=0.001, kernel=rbf, score=0.650, total=   3.0s\n",
            "[CV] C=1, gamma=0.001, kernel=rbf ....................................\n",
            "[CV] ........ C=1, gamma=0.001, kernel=rbf, score=0.681, total=   3.0s\n",
            "[CV] C=1, gamma=0.001, kernel=rbf ....................................\n",
            "[CV] ........ C=1, gamma=0.001, kernel=rbf, score=0.706, total=   3.2s\n",
            "[CV] C=1, gamma=0.001, kernel=rbf ....................................\n",
            "[CV] ........ C=1, gamma=0.001, kernel=rbf, score=0.628, total=   2.7s\n",
            "[CV] C=1, gamma=0.001, kernel=rbf ....................................\n",
            "[CV] ........ C=1, gamma=0.001, kernel=rbf, score=0.645, total=   2.9s\n",
            "[CV] C=1, gamma=0.0001, kernel=rbf ...................................\n",
            "[CV] ....... C=1, gamma=0.0001, kernel=rbf, score=0.643, total=   3.1s\n",
            "[CV] C=1, gamma=0.0001, kernel=rbf ...................................\n",
            "[CV] ....... C=1, gamma=0.0001, kernel=rbf, score=0.668, total=   3.2s\n",
            "[CV] C=1, gamma=0.0001, kernel=rbf ...................................\n",
            "[CV] ....... C=1, gamma=0.0001, kernel=rbf, score=0.682, total=   3.2s\n",
            "[CV] C=1, gamma=0.0001, kernel=rbf ...................................\n",
            "[CV] ....... C=1, gamma=0.0001, kernel=rbf, score=0.647, total=   3.0s\n",
            "[CV] C=1, gamma=0.0001, kernel=rbf ...................................\n",
            "[CV] ....... C=1, gamma=0.0001, kernel=rbf, score=0.641, total=   3.1s\n",
            "[CV] C=10, gamma=1, kernel=rbf .......................................\n",
            "[CV] ........... C=10, gamma=1, kernel=rbf, score=0.633, total=   7.0s\n",
            "[CV] C=10, gamma=1, kernel=rbf .......................................\n",
            "[CV] ........... C=10, gamma=1, kernel=rbf, score=0.351, total=   7.0s\n",
            "[CV] C=10, gamma=1, kernel=rbf .......................................\n",
            "[CV] ........... C=10, gamma=1, kernel=rbf, score=0.273, total=   6.5s\n",
            "[CV] C=10, gamma=1, kernel=rbf .......................................\n",
            "[CV] ........... C=10, gamma=1, kernel=rbf, score=0.383, total=   7.1s\n",
            "[CV] C=10, gamma=1, kernel=rbf .......................................\n",
            "[CV] ........... C=10, gamma=1, kernel=rbf, score=0.632, total=   7.2s\n",
            "[CV] C=10, gamma=0.1, kernel=rbf .....................................\n",
            "[CV] ......... C=10, gamma=0.1, kernel=rbf, score=0.617, total=   4.5s\n",
            "[CV] C=10, gamma=0.1, kernel=rbf .....................................\n",
            "[CV] ......... C=10, gamma=0.1, kernel=rbf, score=0.398, total=   4.3s\n",
            "[CV] C=10, gamma=0.1, kernel=rbf .....................................\n",
            "[CV] ......... C=10, gamma=0.1, kernel=rbf, score=0.336, total=   4.4s\n",
            "[CV] C=10, gamma=0.1, kernel=rbf .....................................\n",
            "[CV] ......... C=10, gamma=0.1, kernel=rbf, score=0.367, total=   4.0s\n",
            "[CV] C=10, gamma=0.1, kernel=rbf .....................................\n",
            "[CV] ......... C=10, gamma=0.1, kernel=rbf, score=0.625, total=   4.4s\n",
            "[CV] C=10, gamma=0.01, kernel=rbf ....................................\n",
            "[CV] ........ C=10, gamma=0.01, kernel=rbf, score=0.639, total=   3.6s\n",
            "[CV] C=10, gamma=0.01, kernel=rbf ....................................\n",
            "[CV] ........ C=10, gamma=0.01, kernel=rbf, score=0.589, total=   3.5s\n",
            "[CV] C=10, gamma=0.01, kernel=rbf ....................................\n",
            "[CV] ........ C=10, gamma=0.01, kernel=rbf, score=0.642, total=   3.6s\n",
            "[CV] C=10, gamma=0.01, kernel=rbf ....................................\n",
            "[CV] ........ C=10, gamma=0.01, kernel=rbf, score=0.563, total=   3.2s\n",
            "[CV] C=10, gamma=0.01, kernel=rbf ....................................\n",
            "[CV] ........ C=10, gamma=0.01, kernel=rbf, score=0.645, total=   3.6s\n",
            "[CV] C=10, gamma=0.001, kernel=rbf ...................................\n",
            "[CV] ....... C=10, gamma=0.001, kernel=rbf, score=0.651, total=   3.2s\n",
            "[CV] C=10, gamma=0.001, kernel=rbf ...................................\n",
            "[CV] ....... C=10, gamma=0.001, kernel=rbf, score=0.653, total=   3.1s\n",
            "[CV] C=10, gamma=0.001, kernel=rbf ...................................\n",
            "[CV] ....... C=10, gamma=0.001, kernel=rbf, score=0.706, total=   3.3s\n",
            "[CV] C=10, gamma=0.001, kernel=rbf ...................................\n",
            "[CV] ....... C=10, gamma=0.001, kernel=rbf, score=0.608, total=   2.7s\n",
            "[CV] C=10, gamma=0.001, kernel=rbf ...................................\n",
            "[CV] ....... C=10, gamma=0.001, kernel=rbf, score=0.646, total=   3.0s\n",
            "[CV] C=10, gamma=0.0001, kernel=rbf ..................................\n",
            "[CV] ...... C=10, gamma=0.0001, kernel=rbf, score=0.652, total=   3.0s\n",
            "[CV] C=10, gamma=0.0001, kernel=rbf ..................................\n",
            "[CV] ...... C=10, gamma=0.0001, kernel=rbf, score=0.687, total=   3.0s\n",
            "[CV] C=10, gamma=0.0001, kernel=rbf ..................................\n",
            "[CV] ...... C=10, gamma=0.0001, kernel=rbf, score=0.709, total=   3.2s\n",
            "[CV] C=10, gamma=0.0001, kernel=rbf ..................................\n",
            "[CV] ...... C=10, gamma=0.0001, kernel=rbf, score=0.625, total=   2.8s\n",
            "[CV] C=10, gamma=0.0001, kernel=rbf ..................................\n",
            "[CV] ...... C=10, gamma=0.0001, kernel=rbf, score=0.646, total=   2.9s\n",
            "[CV] C=100, gamma=1, kernel=rbf ......................................\n",
            "[CV] .......... C=100, gamma=1, kernel=rbf, score=0.622, total=   6.6s\n",
            "[CV] C=100, gamma=1, kernel=rbf ......................................\n",
            "[CV] .......... C=100, gamma=1, kernel=rbf, score=0.352, total=   6.0s\n",
            "[CV] C=100, gamma=1, kernel=rbf ......................................\n",
            "[CV] .......... C=100, gamma=1, kernel=rbf, score=0.289, total=   7.2s\n",
            "[CV] C=100, gamma=1, kernel=rbf ......................................\n",
            "[CV] .......... C=100, gamma=1, kernel=rbf, score=0.390, total=   6.9s\n",
            "[CV] C=100, gamma=1, kernel=rbf ......................................\n",
            "[CV] .......... C=100, gamma=1, kernel=rbf, score=0.630, total=   6.7s\n",
            "[CV] C=100, gamma=0.1, kernel=rbf ....................................\n",
            "[CV] ........ C=100, gamma=0.1, kernel=rbf, score=0.586, total=   6.9s\n",
            "[CV] C=100, gamma=0.1, kernel=rbf ....................................\n",
            "[CV] ........ C=100, gamma=0.1, kernel=rbf, score=0.349, total=   6.7s\n",
            "[CV] C=100, gamma=0.1, kernel=rbf ....................................\n",
            "[CV] ........ C=100, gamma=0.1, kernel=rbf, score=0.250, total=   7.2s\n",
            "[CV] C=100, gamma=0.1, kernel=rbf ....................................\n",
            "[CV] ........ C=100, gamma=0.1, kernel=rbf, score=0.312, total=   6.4s\n",
            "[CV] C=100, gamma=0.1, kernel=rbf ....................................\n",
            "[CV] ........ C=100, gamma=0.1, kernel=rbf, score=0.542, total=   6.9s\n",
            "[CV] C=100, gamma=0.01, kernel=rbf ...................................\n",
            "[CV] ....... C=100, gamma=0.01, kernel=rbf, score=0.623, total=   5.8s\n",
            "[CV] C=100, gamma=0.01, kernel=rbf ...................................\n",
            "[CV] ....... C=100, gamma=0.01, kernel=rbf, score=0.522, total=   5.5s\n",
            "[CV] C=100, gamma=0.01, kernel=rbf ...................................\n",
            "[CV] ....... C=100, gamma=0.01, kernel=rbf, score=0.495, total=   5.4s\n",
            "[CV] C=100, gamma=0.01, kernel=rbf ...................................\n",
            "[CV] ....... C=100, gamma=0.01, kernel=rbf, score=0.487, total=   4.8s\n",
            "[CV] C=100, gamma=0.01, kernel=rbf ...................................\n",
            "[CV] ....... C=100, gamma=0.01, kernel=rbf, score=0.645, total=   5.8s\n",
            "[CV] C=100, gamma=0.001, kernel=rbf ..................................\n",
            "[CV] ...... C=100, gamma=0.001, kernel=rbf, score=0.636, total=   3.8s\n",
            "[CV] C=100, gamma=0.001, kernel=rbf ..................................\n",
            "[CV] ...... C=100, gamma=0.001, kernel=rbf, score=0.636, total=   3.9s\n",
            "[CV] C=100, gamma=0.001, kernel=rbf ..................................\n",
            "[CV] ...... C=100, gamma=0.001, kernel=rbf, score=0.691, total=   4.0s\n",
            "[CV] C=100, gamma=0.001, kernel=rbf ..................................\n",
            "[CV] ...... C=100, gamma=0.001, kernel=rbf, score=0.593, total=   3.3s\n",
            "[CV] C=100, gamma=0.001, kernel=rbf ..................................\n",
            "[CV] ...... C=100, gamma=0.001, kernel=rbf, score=0.647, total=   3.5s\n",
            "[CV] C=100, gamma=0.0001, kernel=rbf .................................\n",
            "[CV] ..... C=100, gamma=0.0001, kernel=rbf, score=0.657, total=   3.1s\n",
            "[CV] C=100, gamma=0.0001, kernel=rbf .................................\n",
            "[CV] ..... C=100, gamma=0.0001, kernel=rbf, score=0.679, total=   3.2s\n",
            "[CV] C=100, gamma=0.0001, kernel=rbf .................................\n",
            "[CV] ..... C=100, gamma=0.0001, kernel=rbf, score=0.708, total=   3.7s\n",
            "[CV] C=100, gamma=0.0001, kernel=rbf .................................\n",
            "[CV] ..... C=100, gamma=0.0001, kernel=rbf, score=0.602, total=   2.8s\n",
            "[CV] C=100, gamma=0.0001, kernel=rbf .................................\n",
            "[CV] ..... C=100, gamma=0.0001, kernel=rbf, score=0.646, total=   3.0s\n",
            "[CV] C=1000, gamma=1, kernel=rbf .....................................\n",
            "[CV] ......... C=1000, gamma=1, kernel=rbf, score=0.618, total=   7.2s\n",
            "[CV] C=1000, gamma=1, kernel=rbf .....................................\n",
            "[CV] ......... C=1000, gamma=1, kernel=rbf, score=0.357, total=   7.2s\n",
            "[CV] C=1000, gamma=1, kernel=rbf .....................................\n",
            "[CV] ......... C=1000, gamma=1, kernel=rbf, score=0.291, total=   7.8s\n",
            "[CV] C=1000, gamma=1, kernel=rbf .....................................\n",
            "[CV] ......... C=1000, gamma=1, kernel=rbf, score=0.406, total=   7.2s\n",
            "[CV] C=1000, gamma=1, kernel=rbf .....................................\n",
            "[CV] ......... C=1000, gamma=1, kernel=rbf, score=0.630, total=   7.8s\n",
            "[CV] C=1000, gamma=0.1, kernel=rbf ...................................\n",
            "[CV] ....... C=1000, gamma=0.1, kernel=rbf, score=0.542, total=  12.5s\n",
            "[CV] C=1000, gamma=0.1, kernel=rbf ...................................\n",
            "[CV] ....... C=1000, gamma=0.1, kernel=rbf, score=0.310, total=  12.3s\n",
            "[CV] C=1000, gamma=0.1, kernel=rbf ...................................\n",
            "[CV] ....... C=1000, gamma=0.1, kernel=rbf, score=0.262, total=  13.2s\n",
            "[CV] C=1000, gamma=0.1, kernel=rbf ...................................\n",
            "[CV] ....... C=1000, gamma=0.1, kernel=rbf, score=0.322, total=  12.8s\n",
            "[CV] C=1000, gamma=0.1, kernel=rbf ...................................\n",
            "[CV] ....... C=1000, gamma=0.1, kernel=rbf, score=0.519, total=  13.1s\n",
            "[CV] C=1000, gamma=0.01, kernel=rbf ..................................\n",
            "[CV] ...... C=1000, gamma=0.01, kernel=rbf, score=0.610, total=  16.3s\n",
            "[CV] C=1000, gamma=0.01, kernel=rbf ..................................\n",
            "[CV] ...... C=1000, gamma=0.01, kernel=rbf, score=0.471, total=  15.4s\n",
            "[CV] C=1000, gamma=0.01, kernel=rbf ..................................\n",
            "[CV] ...... C=1000, gamma=0.01, kernel=rbf, score=0.372, total=  15.7s\n",
            "[CV] C=1000, gamma=0.01, kernel=rbf ..................................\n",
            "[CV] ...... C=1000, gamma=0.01, kernel=rbf, score=0.430, total=  12.9s\n",
            "[CV] C=1000, gamma=0.01, kernel=rbf ..................................\n",
            "[CV] ...... C=1000, gamma=0.01, kernel=rbf, score=0.626, total=  16.9s\n",
            "[CV] C=1000, gamma=0.001, kernel=rbf .................................\n",
            "[CV] ..... C=1000, gamma=0.001, kernel=rbf, score=0.632, total=   6.5s\n",
            "[CV] C=1000, gamma=0.001, kernel=rbf .................................\n",
            "[CV] ..... C=1000, gamma=0.001, kernel=rbf, score=0.591, total=   6.3s\n",
            "[CV] C=1000, gamma=0.001, kernel=rbf .................................\n",
            "[CV] ..... C=1000, gamma=0.001, kernel=rbf, score=0.646, total=   6.7s\n",
            "[CV] C=1000, gamma=0.001, kernel=rbf .................................\n",
            "[CV] ..... C=1000, gamma=0.001, kernel=rbf, score=0.571, total=   5.8s\n",
            "[CV] C=1000, gamma=0.001, kernel=rbf .................................\n",
            "[CV] ..... C=1000, gamma=0.001, kernel=rbf, score=0.643, total=   6.4s\n",
            "[CV] C=1000, gamma=0.0001, kernel=rbf ................................\n",
            "[CV] .... C=1000, gamma=0.0001, kernel=rbf, score=0.652, total=   4.0s\n",
            "[CV] C=1000, gamma=0.0001, kernel=rbf ................................\n",
            "[CV] .... C=1000, gamma=0.0001, kernel=rbf, score=0.651, total=   3.9s\n",
            "[CV] C=1000, gamma=0.0001, kernel=rbf ................................\n",
            "[CV] .... C=1000, gamma=0.0001, kernel=rbf, score=0.699, total=   4.6s\n",
            "[CV] C=1000, gamma=0.0001, kernel=rbf ................................\n",
            "[CV] .... C=1000, gamma=0.0001, kernel=rbf, score=0.598, total=   3.3s\n",
            "[CV] C=1000, gamma=0.0001, kernel=rbf ................................\n",
            "[CV] .... C=1000, gamma=0.0001, kernel=rbf, score=0.647, total=   3.6s\n"
          ],
          "name": "stdout"
        },
        {
          "output_type": "stream",
          "text": [
            "[Parallel(n_jobs=1)]: Done 125 out of 125 | elapsed: 10.7min finished\n"
          ],
          "name": "stderr"
        },
        {
          "output_type": "execute_result",
          "data": {
            "text/plain": [
              "GridSearchCV(cv=None, error_score=nan,\n",
              "             estimator=SVC(C=1.0, break_ties=False, cache_size=200,\n",
              "                           class_weight=None, coef0=0.0,\n",
              "                           decision_function_shape='ovr', degree=3,\n",
              "                           gamma='scale', kernel='rbf', max_iter=-1,\n",
              "                           probability=False, random_state=None, shrinking=True,\n",
              "                           tol=0.001, verbose=False),\n",
              "             iid='deprecated', n_jobs=None,\n",
              "             param_grid={'C': [0.1, 1, 10, 100, 1000],\n",
              "                         'gamma': [1, 0.1, 0.01, 0.001, 0.0001],\n",
              "                         'kernel': ['rbf']},\n",
              "             pre_dispatch='2*n_jobs', refit=True, return_train_score=False,\n",
              "             scoring=None, verbose=3)"
            ]
          },
          "metadata": {
            "tags": []
          },
          "execution_count": 57
        }
      ]
    },
    {
      "cell_type": "code",
      "metadata": {
        "colab": {
          "base_uri": "https://localhost:8080/"
        },
        "id": "FeUeqCqXlySd",
        "outputId": "f88eedac-1933-4a83-85f9-0715c8f4fa82"
      },
      "source": [
        "grid.best_params_, gsearch1.best_score_"
      ],
      "execution_count": null,
      "outputs": [
        {
          "output_type": "execute_result",
          "data": {
            "text/plain": [
              "({'C': 10, 'gamma': 0.0001, 'kernel': 'rbf'}, 0.6749749954452671)"
            ]
          },
          "metadata": {
            "tags": []
          },
          "execution_count": 59
        }
      ]
    },
    {
      "cell_type": "code",
      "metadata": {
        "colab": {
          "base_uri": "https://localhost:8080/"
        },
        "id": "4Ek0dulSt_xv",
        "outputId": "89304afc-e4f2-4e13-eb97-cfbfc3ba5deb"
      },
      "source": [
        "leaf_size = list(range(1,50,2))\n",
        "#n_neighbors = list(range(180,300,5))\n",
        "\n",
        "#Convert to dictionary\n",
        "hyperparameters = dict(leaf_size=leaf_size)\n",
        "#Create new KNN object\n",
        "knn_2 = KNeighborsClassifier()\n",
        "#Use GridSearch\n",
        "clf = GridSearchCV(knn_2, hyperparameters, cv=10)\n",
        "#Fit the model\n",
        "best_model = clf.fit(X_whole,y_whole)\n",
        "#Print The value of best Hyperparameters\n",
        "print('Best leaf_size:', best_model.best_estimator_.get_params()['leaf_size'])\n",
        "#print('Best n_neighbors:', best_model.best_estimator_.get_params()['n_neighbors'])"
      ],
      "execution_count": null,
      "outputs": [
        {
          "output_type": "stream",
          "text": [
            "Best leaf_size: 15\n"
          ],
          "name": "stdout"
        }
      ]
    },
    {
      "cell_type": "code",
      "metadata": {
        "colab": {
          "base_uri": "https://localhost:8080/"
        },
        "id": "t7rYXrvoXiih",
        "outputId": "9eb64f02-c8c1-4af1-828a-c5b7ae88fc6e"
      },
      "source": [
        "from sklearn.model_selection import KFold\n",
        "from xgboost import XGBClassifier\n",
        "from sklearn.metrics import confusion_matrix,accuracy_score,f1_score,cohen_kappa_score,balanced_accuracy_score,matthews_corrcoef\n",
        "from sklearn.ensemble import RandomForestClassifier\n",
        "from sklearn.svm import SVC\n",
        "from sklearn.neighbors import KNeighborsClassifier\n",
        "\n",
        "k = 5\n",
        "kf = KFold(n_splits = k, random_state=0, shuffle=True)\n",
        "\n",
        "accuracy_xgboost0 = 0\n",
        "accuracy_randomforest0 = 0\n",
        "accuracy_svm0 = 0\n",
        "accuracy_knn0 = 0\n",
        "\n",
        "acc_xgboost0 = 0\n",
        "acc_randomforest0 = 0\n",
        "acc_svm0 = 0\n",
        "acc_knn0 = 0\n",
        "\n",
        "kappa_xgboost0 = 0\n",
        "kappa_randomforest0 = 0\n",
        "kappa_svm0 = 0\n",
        "kappa_knn0 = 0\n",
        "\n",
        "accuracy_balanced_xgboost0 = 0\n",
        "accuracy_balanced_randomforest0 = 0\n",
        "accuracy_balanced_svm0 = 0\n",
        "accuracy_balanced_knn0 = 0\n",
        "\n",
        "matthews_xgboost0 = 0\n",
        "matthews_randomforest0 = 0\n",
        "matthews_svm0 = 0\n",
        "matthews_knn0 = 0\n",
        "\n",
        "param_xgboost = {}\n",
        "param_xgboost['objective'] = 'multi:softmax'\n",
        "param_xgboost['num_class'] = len(np.unique(y_whole)) + 1 \n",
        "param_xgboost['max_depth'] = 5\n",
        "param_xgboost['learning_rate'] = 0.2\n",
        "param_xgboost['gamma'] = 0\n",
        "#param_xgboost['reg_alpha'] = 0\n",
        "\n",
        "param_randomforest = {}\n",
        "param_randomforest['n_estimators'] = 200\n",
        "param_randomforest['max_depth'] = 10\n",
        "\n",
        "param_svm = {}\n",
        "param_svm['probability'] = True\n",
        "param_svm['class_weight'] = 'balanced'\n",
        "param_svm['C'] = 1.5\n",
        "param_svm['gamma'] = 'scale'\n",
        "param_svm['kernel'] = 'rbf'\n",
        "\n",
        "param_knn = {}\n",
        "param_knn['n_neighbors'] = 8\n",
        "param_knn['leaf_size'] = 15\n",
        "\n",
        "for train_index, test_index in kf.split(y_whole):\n",
        "      X_train, X_test = X_whole.iloc[train_index], X_whole.iloc[test_index]\n",
        "      y_train, y_test = y_whole.iloc[train_index], y_whole.iloc[test_index]\n",
        "      \n",
        "      xgboost = XGBClassifier(**param_xgboost)\n",
        "      xgboost.fit(X_train,y_train)\n",
        "      y_pred_xgboost = xgboost.predict(X_test)\n",
        "      confusion_matrix_xgboost = confusion_matrix(y_test, y_pred_xgboost)\n",
        "      accuracy_xgboost = np.sum(np.triu(confusion_matrix_xgboost))/np.sum(confusion_matrix_xgboost)\n",
        "      accuracy_xgboost0 = accuracy_xgboost0 + accuracy_xgboost\n",
        "      acc_xgboost = accuracy_score(y_test, y_pred_xgboost)\n",
        "      acc_xgboost0 = acc_xgboost0 + acc_xgboost\n",
        "      kappa_xgboost = cohen_kappa_score(y_test, y_pred_xgboost)\n",
        "      kappa_xgboost0 = kappa_xgboost0 + kappa_xgboost\n",
        "      accuracy_balanced_xgboost = balanced_accuracy_score(y_test, y_pred_xgboost)\n",
        "      accuracy_balanced_xgboost0 = accuracy_balanced_xgboost0 + accuracy_balanced_xgboost\n",
        "      matthews_xgboost = matthews_corrcoef(y_test, y_pred_xgboost)\n",
        "      matthews_xgboost0 = matthews_xgboost0 + matthews_xgboost\n",
        "\n",
        "      randomforest = RandomForestClassifier(**param_randomforest)\n",
        "      randomforest.fit(X_train,y_train)\n",
        "      y_pred_randomforest = randomforest.predict(X_test)\n",
        "      confusion_matrix_randomforest = confusion_matrix(y_test, y_pred_randomforest)\n",
        "      accuracy_randomforest = np.sum(np.triu(confusion_matrix_randomforest))/np.sum(confusion_matrix_randomforest) \n",
        "      accuracy_randomforest0 = accuracy_randomforest0 + accuracy_randomforest\n",
        "      acc_randomforest = accuracy_score(y_test, y_pred_randomforest)\n",
        "      acc_randomforest0 = acc_randomforest0 + acc_randomforest\n",
        "      kappa_randomforest = cohen_kappa_score(y_test, y_pred_randomforest)\n",
        "      kappa_randomforest0 = kappa_randomforest0 + kappa_randomforest\n",
        "      accuracy_balanced_randomforest = balanced_accuracy_score(y_test, y_pred_randomforest)\n",
        "      accuracy_balanced_randomforest0 = accuracy_balanced_randomforest0 + accuracy_balanced_randomforest\n",
        "      matthews_randomforest = matthews_corrcoef(y_test, y_pred_randomforest)\n",
        "      matthews_randomforest0 = matthews_randomforest0 + matthews_randomforest\n",
        "\n",
        "      svm = SVC(**param_svm)\n",
        "      svm.fit(X_train,y_train)\n",
        "      y_pred_svm = svm.predict(X_test)\n",
        "      confusion_matrix_svm = confusion_matrix(y_test, y_pred_svm)\n",
        "      accuracy_svm = np.sum(np.triu(confusion_matrix_svm))/np.sum(confusion_matrix_svm)\n",
        "      accuracy_svm0 = accuracy_svm0 + accuracy_svm\n",
        "      acc_svm = accuracy_score(y_test, y_pred_svm)\n",
        "      acc_svm0 = acc_svm0 + acc_svm\n",
        "      kappa_svm= cohen_kappa_score(y_test, y_pred_svm)\n",
        "      kappa_svm0 = kappa_svm0 + kappa_svm\n",
        "      accuracy_balanced_svm = balanced_accuracy_score(y_test, y_pred_svm)\n",
        "      accuracy_balanced_svm0 = accuracy_balanced_svm0 + accuracy_balanced_svm\n",
        "      matthews_svm = matthews_corrcoef(y_test, y_pred_svm)\n",
        "      matthews_svm0 = matthews_svm0 + matthews_svm\n",
        "\n",
        "      knn = KNeighborsClassifier(**param_knn)\n",
        "      knn.fit(X_train,y_train)\n",
        "      y_pred_knn = knn.predict(X_test)\n",
        "      confusion_matrix_knn = confusion_matrix(y_test, y_pred_knn)\n",
        "      accuracy_knn = np.sum(np.triu(confusion_matrix_knn))/np.sum(confusion_matrix_knn)\n",
        "      accuracy_knn0 = accuracy_knn0 + accuracy_knn\n",
        "      acc_knn = accuracy_score(y_test, y_pred_knn)\n",
        "      acc_knn0 = acc_knn0 + acc_knn\n",
        "      kappa_knn= cohen_kappa_score(y_test, y_pred_knn)\n",
        "      kappa_knn0 = kappa_knn0 + kappa_knn\n",
        "      accuracy_balanced_knn = balanced_accuracy_score(y_test, y_pred_knn)\n",
        "      accuracy_balanced_knn0 = accuracy_balanced_knn0 + accuracy_balanced_knn\n",
        "      matthews_knn = matthews_corrcoef(y_test, y_pred_knn)\n",
        "      matthews_knn0 = matthews_knn0 + matthews_knn\n",
        "\n",
        "\n",
        "accuracy_xgboost_mean= accuracy_xgboost0/k\n",
        "accuracy_randomforest_mean= accuracy_randomforest0/k\n",
        "accuracy_svm_mean= accuracy_svm0/k\n",
        "accuracy_knn_mean= accuracy_knn0/k\n",
        "\n",
        "acc_xgboost_mean= acc_xgboost0/k\n",
        "acc_randomforest_mean= acc_randomforest0/k\n",
        "acc_svm_mean= acc_svm0/k\n",
        "acc_knn_mean= acc_knn0/k\n",
        "\n",
        "kappa_xgboost_mean = kappa_xgboost0/k\n",
        "kappa_randomforest_mean = kappa_randomforest0/k\n",
        "kappa_svm_mean = kappa_svm0/k\n",
        "kappa_knn_mean = kappa_knn0/k\n",
        "\n",
        "accuracy_balanced_xgboost_mean = accuracy_balanced_xgboost0/k\n",
        "accuracy_balanced_randomforest_mean = accuracy_balanced_randomforest0/k\n",
        "accuracy_balanced_svm_mean = accuracy_balanced_svm0/k\n",
        "accuracy_balanced_knn_mean = accuracy_balanced_knn0/k\n",
        "\n",
        "matthews_xgboost_mean = matthews_xgboost0/k\n",
        "matthews_randomforest_mean = matthews_randomforest0/k\n",
        "matthews_svm_mean = matthews_svm0/k\n",
        "matthews_knn_mean = matthews_knn0/k\n",
        "\n",
        "print(accuracy_xgboost_mean,acc_xgboost_mean,kappa_xgboost_mean,accuracy_balanced_xgboost_mean,matthews_xgboost_mean)\n",
        "print(accuracy_randomforest_mean,acc_randomforest_mean,kappa_randomforest_mean,accuracy_balanced_randomforest_mean,matthews_xgboost_mean)\n",
        "print(accuracy_svm_mean,acc_svm_mean,kappa_svm_mean,accuracy_balanced_svm_mean,matthews_svm_mean)\n",
        "print(accuracy_knn_mean,acc_knn_mean,kappa_knn_mean,accuracy_balanced_knn_mean,matthews_knn_mean)"
      ],
      "execution_count": null,
      "outputs": [
        {
          "output_type": "stream",
          "text": [
            "0.7668059113617971 0.6615080442162327 0.2761075272409793 0.4925982165631059 0.2882934426645821\n",
            "0.7572331639096589 0.6710797381927066 0.27547304678455925 0.49033618583000216 0.2882934426645821\n",
            "0.8928084793636512 0.6012903837501999 0.32657303838085294 0.5802764796715543 0.33792489031129636\n",
            "0.7433199727831463 0.6577237117541858 0.24226538488267407 0.46149184675824734 0.2596251755119448\n"
          ],
          "name": "stdout"
        }
      ]
    },
    {
      "cell_type": "code",
      "metadata": {
        "colab": {
          "base_uri": "https://localhost:8080/",
          "height": 375
        },
        "id": "1KtP1TtsmHwS",
        "outputId": "64e4120b-ffdd-4fa9-b11c-4ee42c6cf608"
      },
      "source": [
        "from sklearn.model_selection import KFold\n",
        "from xgboost import XGBClassifier\n",
        "from sklearn.metrics import confusion_matrix,accuracy_score,f1_score,cohen_kappa_score,balanced_accuracy_score,matthews_corrcoef\n",
        "from sklearn.ensemble import RandomForestClassifier\n",
        "from sklearn.svm import SVC\n",
        "from sklearn.neighbors import KNeighborsClassifier\n",
        "\n",
        "k = 5\n",
        "kf = KFold(n_splits = k, random_state=0, shuffle=True)\n",
        "\n",
        "accuracy_svm0 = 0\n",
        "kappa_svm0 = 0\n",
        "accuracy_balanced_svm0 = 0\n",
        "matthews_svm0 = 0\n",
        "\n",
        "param_svm = {}\n",
        "param_svm['probability'] = True\n",
        "param_svm['class_weight'] = 'balanced'\n",
        "param_svm['C'] = 1.5\n",
        "param_svm['gamma'] = 'scale'\n",
        "param_svm['kernel'] = 'rbf'\n",
        "\n",
        "\n",
        "for train_index, test_index in kf.split(y_whole):\n",
        "      X_train, X_test = X_whole.iloc[train_index], X_whole.iloc[test_index]\n",
        "      y_train, y_test = y_whole.iloc[train_index], y_whole.iloc[test_index]\n",
        "\n",
        "      svm = SVC(**param_svm)\n",
        "      svm.fit(X_train,y_train)\n",
        "      y_pred_svm = svm.predict(X_test)\n",
        "      confusion_matrix_svm = confusion_matrix(y_test, y_pred_svm)\n",
        "      accuracy_svm = np.sum(np.triu(confusion_matrix_svm))/np.sum(confusion_matrix_svm)\n",
        "      accuracy_svm0 = accuracy_svm0 + accuracy_svm\n",
        "      \n",
        "      kappa_svm= cohen_kappa_score(y_test, y_pred_svm)\n",
        "      kappa_svm0 = kappa_svm0 + kappa_svm\n",
        "      \n",
        "      accuracy_balanced_svm = balanced_accuracy_score(y_test, y_pred_svm)\n",
        "      accuracy_balanced_svm0 = accuracy_balanced_svm0 + accuracy_balanced_svm\n",
        "\n",
        "      matthews_svm = matthews_corrcoef(y_test, y_pred_svm)\n",
        "      matthews_svm0 = matthews_svm0 + matthews_svm\n",
        "\n",
        "\n",
        "accuracy_svm_mean= accuracy_svm0/k\n",
        "kappa_svm_mean = kappa_svm0/k\n",
        "accuracy_balanced_svm_mean = accuracy_balanced_svm0/k\n",
        "matthews_svm_mean = matthews_svm0/k\n",
        "\n",
        "print(accuracy_svm_mean,kappa_svm_mean,accuracy_balanced_svm_mean,matthews_svm_mean)"
      ],
      "execution_count": null,
      "outputs": [
        {
          "output_type": "error",
          "ename": "KeyboardInterrupt",
          "evalue": "ignored",
          "traceback": [
            "\u001b[0;31m---------------------------------------------------------------------------\u001b[0m",
            "\u001b[0;31mKeyboardInterrupt\u001b[0m                         Traceback (most recent call last)",
            "\u001b[0;32m<ipython-input-14-1989fdc44ea1>\u001b[0m in \u001b[0;36m<module>\u001b[0;34m()\u001b[0m\n\u001b[1;32m     27\u001b[0m \u001b[0;34m\u001b[0m\u001b[0m\n\u001b[1;32m     28\u001b[0m       \u001b[0msvm\u001b[0m \u001b[0;34m=\u001b[0m \u001b[0mSVC\u001b[0m\u001b[0;34m(\u001b[0m\u001b[0;34m**\u001b[0m\u001b[0mparam_svm\u001b[0m\u001b[0;34m)\u001b[0m\u001b[0;34m\u001b[0m\u001b[0;34m\u001b[0m\u001b[0m\n\u001b[0;32m---> 29\u001b[0;31m       \u001b[0msvm\u001b[0m\u001b[0;34m.\u001b[0m\u001b[0mfit\u001b[0m\u001b[0;34m(\u001b[0m\u001b[0mX_train\u001b[0m\u001b[0;34m,\u001b[0m\u001b[0my_train\u001b[0m\u001b[0;34m)\u001b[0m\u001b[0;34m\u001b[0m\u001b[0;34m\u001b[0m\u001b[0m\n\u001b[0m\u001b[1;32m     30\u001b[0m       \u001b[0my_pred_svm\u001b[0m \u001b[0;34m=\u001b[0m \u001b[0msvm\u001b[0m\u001b[0;34m.\u001b[0m\u001b[0mpredict\u001b[0m\u001b[0;34m(\u001b[0m\u001b[0mX_test\u001b[0m\u001b[0;34m)\u001b[0m\u001b[0;34m\u001b[0m\u001b[0;34m\u001b[0m\u001b[0m\n\u001b[1;32m     31\u001b[0m       \u001b[0mconfusion_matrix_svm\u001b[0m \u001b[0;34m=\u001b[0m \u001b[0mconfusion_matrix\u001b[0m\u001b[0;34m(\u001b[0m\u001b[0my_test\u001b[0m\u001b[0;34m,\u001b[0m \u001b[0my_pred_svm\u001b[0m\u001b[0;34m)\u001b[0m\u001b[0;34m\u001b[0m\u001b[0;34m\u001b[0m\u001b[0m\n",
            "\u001b[0;32m/usr/local/lib/python3.6/dist-packages/sklearn/svm/_base.py\u001b[0m in \u001b[0;36mfit\u001b[0;34m(self, X, y, sample_weight)\u001b[0m\n\u001b[1;32m    197\u001b[0m \u001b[0;34m\u001b[0m\u001b[0m\n\u001b[1;32m    198\u001b[0m         \u001b[0mseed\u001b[0m \u001b[0;34m=\u001b[0m \u001b[0mrnd\u001b[0m\u001b[0;34m.\u001b[0m\u001b[0mrandint\u001b[0m\u001b[0;34m(\u001b[0m\u001b[0mnp\u001b[0m\u001b[0;34m.\u001b[0m\u001b[0miinfo\u001b[0m\u001b[0;34m(\u001b[0m\u001b[0;34m'i'\u001b[0m\u001b[0;34m)\u001b[0m\u001b[0;34m.\u001b[0m\u001b[0mmax\u001b[0m\u001b[0;34m)\u001b[0m\u001b[0;34m\u001b[0m\u001b[0;34m\u001b[0m\u001b[0m\n\u001b[0;32m--> 199\u001b[0;31m         \u001b[0mfit\u001b[0m\u001b[0;34m(\u001b[0m\u001b[0mX\u001b[0m\u001b[0;34m,\u001b[0m \u001b[0my\u001b[0m\u001b[0;34m,\u001b[0m \u001b[0msample_weight\u001b[0m\u001b[0;34m,\u001b[0m \u001b[0msolver_type\u001b[0m\u001b[0;34m,\u001b[0m \u001b[0mkernel\u001b[0m\u001b[0;34m,\u001b[0m \u001b[0mrandom_seed\u001b[0m\u001b[0;34m=\u001b[0m\u001b[0mseed\u001b[0m\u001b[0;34m)\u001b[0m\u001b[0;34m\u001b[0m\u001b[0;34m\u001b[0m\u001b[0m\n\u001b[0m\u001b[1;32m    200\u001b[0m         \u001b[0;31m# see comment on the other call to np.iinfo in this file\u001b[0m\u001b[0;34m\u001b[0m\u001b[0;34m\u001b[0m\u001b[0;34m\u001b[0m\u001b[0m\n\u001b[1;32m    201\u001b[0m \u001b[0;34m\u001b[0m\u001b[0m\n",
            "\u001b[0;32m/usr/local/lib/python3.6/dist-packages/sklearn/svm/_base.py\u001b[0m in \u001b[0;36m_dense_fit\u001b[0;34m(self, X, y, sample_weight, solver_type, kernel, random_seed)\u001b[0m\n\u001b[1;32m    256\u001b[0m                 \u001b[0mcache_size\u001b[0m\u001b[0;34m=\u001b[0m\u001b[0mself\u001b[0m\u001b[0;34m.\u001b[0m\u001b[0mcache_size\u001b[0m\u001b[0;34m,\u001b[0m \u001b[0mcoef0\u001b[0m\u001b[0;34m=\u001b[0m\u001b[0mself\u001b[0m\u001b[0;34m.\u001b[0m\u001b[0mcoef0\u001b[0m\u001b[0;34m,\u001b[0m\u001b[0;34m\u001b[0m\u001b[0;34m\u001b[0m\u001b[0m\n\u001b[1;32m    257\u001b[0m                 \u001b[0mgamma\u001b[0m\u001b[0;34m=\u001b[0m\u001b[0mself\u001b[0m\u001b[0;34m.\u001b[0m\u001b[0m_gamma\u001b[0m\u001b[0;34m,\u001b[0m \u001b[0mepsilon\u001b[0m\u001b[0;34m=\u001b[0m\u001b[0mself\u001b[0m\u001b[0;34m.\u001b[0m\u001b[0mepsilon\u001b[0m\u001b[0;34m,\u001b[0m\u001b[0;34m\u001b[0m\u001b[0;34m\u001b[0m\u001b[0m\n\u001b[0;32m--> 258\u001b[0;31m                 max_iter=self.max_iter, random_seed=random_seed)\n\u001b[0m\u001b[1;32m    259\u001b[0m \u001b[0;34m\u001b[0m\u001b[0m\n\u001b[1;32m    260\u001b[0m         \u001b[0mself\u001b[0m\u001b[0;34m.\u001b[0m\u001b[0m_warn_from_fit_status\u001b[0m\u001b[0;34m(\u001b[0m\u001b[0;34m)\u001b[0m\u001b[0;34m\u001b[0m\u001b[0;34m\u001b[0m\u001b[0m\n",
            "\u001b[0;31mKeyboardInterrupt\u001b[0m: "
          ]
        }
      ]
    },
    {
      "cell_type": "code",
      "metadata": {
        "colab": {
          "base_uri": "https://localhost:8080/"
        },
        "id": "LV35arOYay15",
        "outputId": "e379ba09-edbf-4ca0-f75d-2f0c1d914c18"
      },
      "source": [
        "param_svm = {}\n",
        "param_svm['probability'] = True\n",
        "param_svm['class_weight'] = 'balanced'\n",
        "param_svm['C'] = 1.5\n",
        "param_svm['gamma'] = \"scale\"\n",
        "param_svm['kernel'] = 'rbf'\n",
        "\n",
        "final = SVC(**param_svm)\n",
        "final.fit(X_whole, y_whole)\n",
        "\n",
        "y_valid_pred = final.predict(X_valid)\n",
        "from sklearn.metrics import confusion_matrix\n",
        "confusion_matrix_valid = confusion_matrix(y_valid, y_valid_pred)\n",
        "print(confusion_matrix_valid)"
      ],
      "execution_count": null,
      "outputs": [
        {
          "output_type": "stream",
          "text": [
            "[[198  90  29]\n",
            " [ 33  46  40]\n",
            " [  7  20  33]]\n"
          ],
          "name": "stdout"
        }
      ]
    },
    {
      "cell_type": "code",
      "metadata": {
        "id": "rZJJOXRCa4X2"
      },
      "source": [
        "y_valid_pred = final.predict(X_valid)"
      ],
      "execution_count": null,
      "outputs": []
    },
    {
      "cell_type": "code",
      "metadata": {
        "colab": {
          "base_uri": "https://localhost:8080/"
        },
        "id": "-eS1mwWZa-H8",
        "outputId": "a7446865-4916-4ab6-e833-374fe1b3c2b6"
      },
      "source": [
        "from sklearn.metrics import confusion_matrix\n",
        "confusion_matrix_valid = confusion_matrix(y_valid, y_valid_pred)\n",
        "print(confusion_matrix_valid)"
      ],
      "execution_count": null,
      "outputs": [
        {
          "output_type": "stream",
          "text": [
            "[[202  84  31]\n",
            " [ 33  46  40]\n",
            " [  7  20  33]]\n"
          ],
          "name": "stdout"
        }
      ]
    },
    {
      "cell_type": "code",
      "metadata": {
        "colab": {
          "base_uri": "https://localhost:8080/"
        },
        "id": "QbXgNO4PsCtk",
        "outputId": "fd55f102-2c0c-48cd-c919-b058661ced8c"
      },
      "source": [
        "from xgboost import XGBClassifier\n",
        "param_xgboost = {}\n",
        "param_xgboost['objective'] = 'multi:softmax'\n",
        "param_xgboost['num_class'] = len(np.unique(y_whole)) + 1 \n",
        "param_xgboost['max_depth'] = 5\n",
        "param_xgboost['learning_rate'] = 0.2\n",
        "param_xgboost['gamma'] = 0\n",
        "final_xgb = XGBClassifier(**param_xgboost)\n",
        "final_xgb.fit(X_whole, y_whole)"
      ],
      "execution_count": null,
      "outputs": [
        {
          "output_type": "execute_result",
          "data": {
            "text/plain": [
              "XGBClassifier(base_score=0.5, booster='gbtree', colsample_bylevel=1,\n",
              "              colsample_bynode=1, colsample_bytree=1, gamma=0,\n",
              "              learning_rate=0.2, max_delta_step=0, max_depth=5,\n",
              "              min_child_weight=1, missing=None, n_estimators=100, n_jobs=1,\n",
              "              nthread=None, num_class=4, objective='multi:softprob',\n",
              "              random_state=0, reg_alpha=0, reg_lambda=1, scale_pos_weight=1,\n",
              "              seed=None, silent=None, subsample=1, verbosity=1)"
            ]
          },
          "metadata": {
            "tags": []
          },
          "execution_count": 16
        }
      ]
    },
    {
      "cell_type": "code",
      "metadata": {
        "colab": {
          "base_uri": "https://localhost:8080/"
        },
        "id": "XU9zH8jsIxmp",
        "outputId": "8f2d9060-fa99-44b5-c652-1c129a2fe32d"
      },
      "source": [
        "from sklearn.ensemble import RandomForestClassifier\n",
        "param_randomforest = {}\n",
        "param_randomforest['n_estimators'] = 200\n",
        "param_randomforest['max_depth'] = 10\n",
        "final_rf = RandomForestClassifier(**param_randomforest)\n",
        "final_rf.fit(X_whole, y_whole)"
      ],
      "execution_count": null,
      "outputs": [
        {
          "output_type": "execute_result",
          "data": {
            "text/plain": [
              "RandomForestClassifier(bootstrap=True, ccp_alpha=0.0, class_weight=None,\n",
              "                       criterion='gini', max_depth=10, max_features='auto',\n",
              "                       max_leaf_nodes=None, max_samples=None,\n",
              "                       min_impurity_decrease=0.0, min_impurity_split=None,\n",
              "                       min_samples_leaf=1, min_samples_split=2,\n",
              "                       min_weight_fraction_leaf=0.0, n_estimators=200,\n",
              "                       n_jobs=None, oob_score=False, random_state=None,\n",
              "                       verbose=0, warm_start=False)"
            ]
          },
          "metadata": {
            "tags": []
          },
          "execution_count": 20
        }
      ]
    },
    {
      "cell_type": "code",
      "metadata": {
        "colab": {
          "base_uri": "https://localhost:8080/",
          "height": 561
        },
        "id": "rjUuyxiH9ja2",
        "outputId": "d7c656ed-c218-4388-eee1-5e8638e5264b"
      },
      "source": [
        "plt.figure(figsize=(20,10))\n",
        "sorted_idx = final_xgb.feature_importances_.argsort()\n",
        "plt.barh(X_raw.columns[sorted_idx], final_xgb.feature_importances_[sorted_idx])\n",
        "plt.xticks(fontsize=14)\n",
        "plt.yticks(fontsize=14)\n",
        "plt.xlabel(\"\", fontsize=20)\n",
        "\n",
        "for index, value in enumerate(final_xgb.feature_importances_[sorted_idx]):\n",
        "    plt.text(value+0.001, index, str(round(value,3)))"
      ],
      "execution_count": null,
      "outputs": [
        {
          "output_type": "display_data",
          "data": {
            "image/png": "[encoded data removed]",
            "text/plain": [
              "<Figure size 1440x720 with 1 Axes>"
            ]
          },
          "metadata": {
            "tags": [],
            "needs_background": "light"
          }
        }
      ]
    },
    {
      "cell_type": "code",
      "metadata": {
        "colab": {
          "base_uri": "https://localhost:8080/",
          "height": 561
        },
        "id": "IEhdzDZUJuyy",
        "outputId": "c78ef6f8-785f-4761-f116-6ddcc31b9036"
      },
      "source": [
        "plt.figure(figsize=(20,10))\n",
        "sorted_idx = final_rf.feature_importances_.argsort()\n",
        "plt.barh(X_raw.columns[sorted_idx], final_rf.feature_importances_[sorted_idx])\n",
        "plt.xticks(fontsize=14)\n",
        "plt.yticks(fontsize=14)\n",
        "plt.xlabel(\"\", fontsize=20)\n",
        "\n",
        "for index, value in enumerate(final_rf.feature_importances_[sorted_idx]):\n",
        "    plt.text(value+0.001, index, str(round(value,3)))"
      ],
      "execution_count": null,
      "outputs": [
        {
          "output_type": "display_data",
          "data": {
            "image/png": "[encoded data removed]",
            "text/plain": [
              "<Figure size 1440x720 with 1 Axes>"
            ]
          },
          "metadata": {
            "tags": [],
            "needs_background": "light"
          }
        }
      ]
    },
    {
      "cell_type": "code",
      "metadata": {
        "id": "n8kP750tBGEQ"
      },
      "source": [
        ""
      ],
      "execution_count": null,
      "outputs": []
    },
    {
      "cell_type": "code",
      "metadata": {
        "colab": {
          "base_uri": "https://localhost:8080/",
          "height": 224
        },
        "id": "RMQRB46doKKN",
        "outputId": "71a84f1e-d3ce-4882-82de-8b8f796c3dc1"
      },
      "source": [
        "df3.head()"
      ],
      "execution_count": null,
      "outputs": [
        {
          "output_type": "execute_result",
          "data": {
            "text/html": [
              "<div>\n",
              "<style scoped>\n",
              "    .dataframe tbody tr th:only-of-type {\n",
              "        vertical-align: middle;\n",
              "    }\n",
              "\n",
              "    .dataframe tbody tr th {\n",
              "        vertical-align: top;\n",
              "    }\n",
              "\n",
              "    .dataframe thead th {\n",
              "        text-align: right;\n",
              "    }\n",
              "</style>\n",
              "<table border=\"1\" class=\"dataframe\">\n",
              "  <thead>\n",
              "    <tr style=\"text-align: right;\">\n",
              "      <th></th>\n",
              "      <th>sum_etage_hors_sol</th>\n",
              "      <th>sum_nombre_logement</th>\n",
              "      <th>avg_annee_construction</th>\n",
              "      <th>sum_superficie_terrain</th>\n",
              "      <th>area</th>\n",
              "      <th>population</th>\n",
              "      <th>dwellings</th>\n",
              "      <th>households</th>\n",
              "      <th>averagehouseholdsize</th>\n",
              "      <th>averageage</th>\n",
              "      <th>averagesizeofcensusfamilies</th>\n",
              "      <th>workers</th>\n",
              "      <th>caserne_count</th>\n",
              "      <th>total_crimes_last_100</th>\n",
              "      <th>vols_count_last_100</th>\n",
              "      <th>mefait_count_last_100</th>\n",
              "      <th>vol_de_vehicule_count_last_100</th>\n",
              "      <th>introduction_count_last_100</th>\n",
              "      <th>infractions_entrainant_count_last_100</th>\n",
              "      <th>vol_moteur_count_last_100</th>\n",
              "      <th>distance</th>\n",
              "      <th>fire</th>\n",
              "    </tr>\n",
              "  </thead>\n",
              "  <tbody>\n",
              "    <tr>\n",
              "      <th>0</th>\n",
              "      <td>0</td>\n",
              "      <td>0</td>\n",
              "      <td>1900.000000</td>\n",
              "      <td>2732</td>\n",
              "      <td>1.57174</td>\n",
              "      <td>352</td>\n",
              "      <td>162</td>\n",
              "      <td>149</td>\n",
              "      <td>2.3</td>\n",
              "      <td>42.0</td>\n",
              "      <td>2.7</td>\n",
              "      <td>100</td>\n",
              "      <td>0</td>\n",
              "      <td>0</td>\n",
              "      <td>0</td>\n",
              "      <td>0</td>\n",
              "      <td>0</td>\n",
              "      <td>0</td>\n",
              "      <td>0</td>\n",
              "      <td>0</td>\n",
              "      <td>32</td>\n",
              "      <td>0</td>\n",
              "    </tr>\n",
              "    <tr>\n",
              "      <th>1</th>\n",
              "      <td>0</td>\n",
              "      <td>0</td>\n",
              "      <td>1900.000000</td>\n",
              "      <td>2732</td>\n",
              "      <td>1.57174</td>\n",
              "      <td>352</td>\n",
              "      <td>162</td>\n",
              "      <td>149</td>\n",
              "      <td>2.3</td>\n",
              "      <td>42.0</td>\n",
              "      <td>2.7</td>\n",
              "      <td>100</td>\n",
              "      <td>0</td>\n",
              "      <td>1</td>\n",
              "      <td>0</td>\n",
              "      <td>1</td>\n",
              "      <td>0</td>\n",
              "      <td>0</td>\n",
              "      <td>0</td>\n",
              "      <td>0</td>\n",
              "      <td>32</td>\n",
              "      <td>0</td>\n",
              "    </tr>\n",
              "    <tr>\n",
              "      <th>2</th>\n",
              "      <td>728</td>\n",
              "      <td>730</td>\n",
              "      <td>1949.980392</td>\n",
              "      <td>253537</td>\n",
              "      <td>0.21093</td>\n",
              "      <td>314</td>\n",
              "      <td>7</td>\n",
              "      <td>0</td>\n",
              "      <td>0.0</td>\n",
              "      <td>91.6</td>\n",
              "      <td>0.0</td>\n",
              "      <td>0</td>\n",
              "      <td>0</td>\n",
              "      <td>2</td>\n",
              "      <td>0</td>\n",
              "      <td>0</td>\n",
              "      <td>1</td>\n",
              "      <td>1</td>\n",
              "      <td>0</td>\n",
              "      <td>0</td>\n",
              "      <td>31</td>\n",
              "      <td>0</td>\n",
              "    </tr>\n",
              "    <tr>\n",
              "      <th>3</th>\n",
              "      <td>728</td>\n",
              "      <td>730</td>\n",
              "      <td>1949.980392</td>\n",
              "      <td>253537</td>\n",
              "      <td>0.21093</td>\n",
              "      <td>314</td>\n",
              "      <td>7</td>\n",
              "      <td>0</td>\n",
              "      <td>0.0</td>\n",
              "      <td>91.6</td>\n",
              "      <td>0.0</td>\n",
              "      <td>0</td>\n",
              "      <td>0</td>\n",
              "      <td>4</td>\n",
              "      <td>1</td>\n",
              "      <td>2</td>\n",
              "      <td>0</td>\n",
              "      <td>0</td>\n",
              "      <td>0</td>\n",
              "      <td>1</td>\n",
              "      <td>31</td>\n",
              "      <td>0</td>\n",
              "    </tr>\n",
              "    <tr>\n",
              "      <th>4</th>\n",
              "      <td>728</td>\n",
              "      <td>730</td>\n",
              "      <td>1949.980392</td>\n",
              "      <td>253537</td>\n",
              "      <td>0.21093</td>\n",
              "      <td>314</td>\n",
              "      <td>7</td>\n",
              "      <td>0</td>\n",
              "      <td>0.0</td>\n",
              "      <td>91.6</td>\n",
              "      <td>0.0</td>\n",
              "      <td>0</td>\n",
              "      <td>0</td>\n",
              "      <td>5</td>\n",
              "      <td>0</td>\n",
              "      <td>0</td>\n",
              "      <td>2</td>\n",
              "      <td>1</td>\n",
              "      <td>0</td>\n",
              "      <td>2</td>\n",
              "      <td>31</td>\n",
              "      <td>0</td>\n",
              "    </tr>\n",
              "  </tbody>\n",
              "</table>\n",
              "</div>"
            ],
            "text/plain": [
              "   sum_etage_hors_sol  sum_nombre_logement  ...  distance  fire\n",
              "0                   0                    0  ...        32     0\n",
              "1                   0                    0  ...        32     0\n",
              "2                 728                  730  ...        31     0\n",
              "3                 728                  730  ...        31     0\n",
              "4                 728                  730  ...        31     0\n",
              "\n",
              "[5 rows x 22 columns]"
            ]
          },
          "metadata": {
            "tags": []
          },
          "execution_count": 19
        }
      ]
    },
    {
      "cell_type": "code",
      "metadata": {
        "id": "r4Rqw3rA-T5i"
      },
      "source": [
        "import numpy as np\n",
        "import pandas as pd\n",
        "\n",
        "from sklearn.datasets import load_boston\n",
        "# for correlation heatmap\n"
      ],
      "execution_count": null,
      "outputs": []
    }
  ]
}